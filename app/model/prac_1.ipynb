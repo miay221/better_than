{
 "cells": [
  {
   "cell_type": "code",
   "execution_count": 2,
   "metadata": {},
   "outputs": [
    {
     "name": "stderr",
     "output_type": "stream",
     "text": [
      "c:\\Users\\wjdwj\\better_than\\venv\\Lib\\site-packages\\tqdm\\auto.py:21: TqdmWarning: IProgress not found. Please update jupyter and ipywidgets. See https://ipywidgets.readthedocs.io/en/stable/user_install.html\n",
      "  from .autonotebook import tqdm as notebook_tqdm\n"
     ]
    }
   ],
   "source": [
    "from datasets import load_dataset\n",
    "import pandas as pd"
   ]
  },
  {
   "cell_type": "code",
   "execution_count": 3,
   "metadata": {},
   "outputs": [
    {
     "data": {
      "text/plain": [
       "Index(['Unnamed: 0', 'document_id', 'document_score', 'title', 'author',\n",
       "       'publisher', 'date', 'url', 'paragraph_id', 'paragraph_form',\n",
       "       'expression_id', 'expression_form', 'exp_paragraph_id',\n",
       "       'exp_paragraph_begin', 'exp_paragraph_end', 'expression_score',\n",
       "       'expression_category', 'subject_category', 'subject'],\n",
       "      dtype='object')"
      ]
     },
     "execution_count": 3,
     "metadata": {},
     "output_type": "execute_result"
    }
   ],
   "source": [
    "data= pd.read_csv('data/EXSA2002108040.csv')\n",
    "\n",
    "data.columns"
   ]
  },
  {
   "cell_type": "code",
   "execution_count": 4,
   "metadata": {},
   "outputs": [
    {
     "data": {
      "text/html": [
       "<div>\n",
       "<style scoped>\n",
       "    .dataframe tbody tr th:only-of-type {\n",
       "        vertical-align: middle;\n",
       "    }\n",
       "\n",
       "    .dataframe tbody tr th {\n",
       "        vertical-align: top;\n",
       "    }\n",
       "\n",
       "    .dataframe thead th {\n",
       "        text-align: right;\n",
       "    }\n",
       "</style>\n",
       "<table border=\"1\" class=\"dataframe\">\n",
       "  <thead>\n",
       "    <tr style=\"text-align: right;\">\n",
       "      <th></th>\n",
       "      <th>document_score</th>\n",
       "      <th>url</th>\n",
       "      <th>expression_id</th>\n",
       "      <th>expression_form</th>\n",
       "      <th>expression_score</th>\n",
       "    </tr>\n",
       "  </thead>\n",
       "  <tbody>\n",
       "    <tr>\n",
       "      <th>0</th>\n",
       "      <td>1</td>\n",
       "      <td>http://kimmari02.egloos.com/2389745</td>\n",
       "      <td>1</td>\n",
       "      <td>깔끔하게 부직포 포장으로 되어 있어서</td>\n",
       "      <td>1</td>\n",
       "    </tr>\n",
       "    <tr>\n",
       "      <th>1</th>\n",
       "      <td>1</td>\n",
       "      <td>http://kimmari02.egloos.com/2389745</td>\n",
       "      <td>2</td>\n",
       "      <td>금방 우러난다.</td>\n",
       "      <td>1</td>\n",
       "    </tr>\n",
       "    <tr>\n",
       "      <th>2</th>\n",
       "      <td>1</td>\n",
       "      <td>http://kimmari02.egloos.com/2389745</td>\n",
       "      <td>3</td>\n",
       "      <td>신선한 한약풀 냄새가</td>\n",
       "      <td>1</td>\n",
       "    </tr>\n",
       "    <tr>\n",
       "      <th>3</th>\n",
       "      <td>1</td>\n",
       "      <td>http://kimmari02.egloos.com/2389745</td>\n",
       "      <td>4</td>\n",
       "      <td>기분이 좋아졌다.</td>\n",
       "      <td>1</td>\n",
       "    </tr>\n",
       "    <tr>\n",
       "      <th>4</th>\n",
       "      <td>1</td>\n",
       "      <td>http://kimmari02.egloos.com/2389745</td>\n",
       "      <td>5</td>\n",
       "      <td>효과까지는 모르겠는데</td>\n",
       "      <td>0</td>\n",
       "    </tr>\n",
       "    <tr>\n",
       "      <th>...</th>\n",
       "      <td>...</td>\n",
       "      <td>...</td>\n",
       "      <td>...</td>\n",
       "      <td>...</td>\n",
       "      <td>...</td>\n",
       "    </tr>\n",
       "    <tr>\n",
       "      <th>19526</th>\n",
       "      <td>2</td>\n",
       "      <td>http://blog.naver.com/PostView.nhn?blogId=kyun...</td>\n",
       "      <td>13</td>\n",
       "      <td>질이 우리나라보다 좋은 것 같으면 기분 탓인가.......</td>\n",
       "      <td>1</td>\n",
       "    </tr>\n",
       "    <tr>\n",
       "      <th>19527</th>\n",
       "      <td>2</td>\n",
       "      <td>http://blog.naver.com/PostView.nhn?blogId=kyun...</td>\n",
       "      <td>14</td>\n",
       "      <td>귀여워서 집어온 모자.</td>\n",
       "      <td>1</td>\n",
       "    </tr>\n",
       "    <tr>\n",
       "      <th>19528</th>\n",
       "      <td>2</td>\n",
       "      <td>http://blog.naver.com/PostView.nhn?blogId=kyun...</td>\n",
       "      <td>15</td>\n",
       "      <td>야무지게 샀따악!!!!!</td>\n",
       "      <td>2</td>\n",
       "    </tr>\n",
       "    <tr>\n",
       "      <th>19529</th>\n",
       "      <td>2</td>\n",
       "      <td>http://blog.naver.com/PostView.nhn?blogId=kyun...</td>\n",
       "      <td>16</td>\n",
       "      <td>정말 알차게 사ㄸㅏ...!!!!!!!</td>\n",
       "      <td>2</td>\n",
       "    </tr>\n",
       "    <tr>\n",
       "      <th>19530</th>\n",
       "      <td>2</td>\n",
       "      <td>http://blog.naver.com/PostView.nhn?blogId=kyun...</td>\n",
       "      <td>17</td>\n",
       "      <td>사랑해!!!!!!!</td>\n",
       "      <td>2</td>\n",
       "    </tr>\n",
       "  </tbody>\n",
       "</table>\n",
       "<p>19531 rows × 5 columns</p>\n",
       "</div>"
      ],
      "text/plain": [
       "       document_score                                                url  \\\n",
       "0                   1                http://kimmari02.egloos.com/2389745   \n",
       "1                   1                http://kimmari02.egloos.com/2389745   \n",
       "2                   1                http://kimmari02.egloos.com/2389745   \n",
       "3                   1                http://kimmari02.egloos.com/2389745   \n",
       "4                   1                http://kimmari02.egloos.com/2389745   \n",
       "...               ...                                                ...   \n",
       "19526               2  http://blog.naver.com/PostView.nhn?blogId=kyun...   \n",
       "19527               2  http://blog.naver.com/PostView.nhn?blogId=kyun...   \n",
       "19528               2  http://blog.naver.com/PostView.nhn?blogId=kyun...   \n",
       "19529               2  http://blog.naver.com/PostView.nhn?blogId=kyun...   \n",
       "19530               2  http://blog.naver.com/PostView.nhn?blogId=kyun...   \n",
       "\n",
       "       expression_id                   expression_form  expression_score  \n",
       "0                  1              깔끔하게 부직포 포장으로 되어 있어서                 1  \n",
       "1                  2                          금방 우러난다.                 1  \n",
       "2                  3                       신선한 한약풀 냄새가                 1  \n",
       "3                  4                         기분이 좋아졌다.                 1  \n",
       "4                  5                       효과까지는 모르겠는데                 0  \n",
       "...              ...                               ...               ...  \n",
       "19526             13  질이 우리나라보다 좋은 것 같으면 기분 탓인가.......                 1  \n",
       "19527             14                      귀여워서 집어온 모자.                 1  \n",
       "19528             15                     야무지게 샀따악!!!!!                 2  \n",
       "19529             16              정말 알차게 사ㄸㅏ...!!!!!!!                 2  \n",
       "19530             17                        사랑해!!!!!!!                 2  \n",
       "\n",
       "[19531 rows x 5 columns]"
      ]
     },
     "execution_count": 4,
     "metadata": {},
     "output_type": "execute_result"
    }
   ],
   "source": [
    "data[['document_score','url','expression_id','expression_form','expression_score']]"
   ]
  },
  {
   "cell_type": "code",
   "execution_count": null,
   "metadata": {},
   "outputs": [],
   "source": []
  }
 ],
 "metadata": {
  "kernelspec": {
   "display_name": "venv",
   "language": "python",
   "name": "python3"
  },
  "language_info": {
   "codemirror_mode": {
    "name": "ipython",
    "version": 3
   },
   "file_extension": ".py",
   "mimetype": "text/x-python",
   "name": "python",
   "nbconvert_exporter": "python",
   "pygments_lexer": "ipython3",
   "version": "3.12.6"
  }
 },
 "nbformat": 4,
 "nbformat_minor": 2
}
